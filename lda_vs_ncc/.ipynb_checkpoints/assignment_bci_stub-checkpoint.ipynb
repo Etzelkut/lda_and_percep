{
 "cells": [
  {
   "cell_type": "code",
   "execution_count": 18,
   "metadata": {},
   "outputs": [],
   "source": [
    "import pylab as pl\n",
    "import scipy as sp\n",
    "import numpy as np\n",
    "from scipy.linalg import eig\n",
    "from scipy.io import loadmat\n",
    "import pdb"
   ]
  },
  {
   "cell_type": "code",
   "execution_count": 19,
   "metadata": {},
   "outputs": [],
   "source": [
    "def load_data(fname):\n",
    "    # load the data\n",
    "    data = loadmat(fname)\n",
    "    X,Y = data['X'],data['Y']\n",
    "    # collapse the time-electrode dimensions\n",
    "    X = sp.reshape(X,(X.shape[0]*X.shape[1],X.shape[2]))\n",
    "    # transform the labels to (-1,1)\n",
    "    Y = sp.sign((Y[0,:]>0) -.5)\n",
    "    return X,Y"
   ]
  },
  {
   "cell_type": "code",
   "execution_count": 20,
   "metadata": {},
   "outputs": [
    {
     "name": "stdout",
     "output_type": "stream",
     "text": [
      "(310, 5322)\n",
      "(5322,)\n"
     ]
    }
   ],
   "source": [
    "X,Y = load_data('bcidata.mat')\n",
    "print(X.shape)\n",
    "print(Y.shape)"
   ]
  },
  {
   "cell_type": "code",
   "execution_count": 21,
   "metadata": {},
   "outputs": [],
   "source": [
    "def train_ncc(X,Y):\n",
    "    '''\n",
    "    Train a nearest centroid classifier\n",
    "    '''\n",
    "    indexes_of_minus_class = np.where(Y == -1.)\n",
    "    X_minus = X[:, indexes_of_minus_class].reshape(310, -1)\n",
    "    X_plus = np.delete(X, indexes_of_minus_class, axis = 1)\n",
    "    # return the weight vector, bias term\n",
    "    mu_minus = np.mean(X_minus, axis = 1)\n",
    "    mu_plus = np.mean(X_plus, axis = 1)\n",
    "    w = (mu_plus - mu_minus).T\n",
    "    b = 1/2 * (mu_plus.T.dot(mu_plus) - mu_minus.T.dot(mu_minus))\n",
    "    return w,b\n"
   ]
  },
  {
   "cell_type": "code",
   "execution_count": 26,
   "metadata": {},
   "outputs": [],
   "source": [
    "def train_lda(X,Y):\n",
    "    '''\n",
    "    Train a linear discriminant analysis classifier\n",
    "    '''\n",
    "    indexes_of_minus_class = np.where(Y == -1.)\n",
    "    X_minus = X[:, indexes_of_minus_class].reshape(310, -1)\n",
    "    X_plus = np.delete(X, indexes_of_minus_class, axis = 1)\n",
    "\n",
    "    mu_minus = np.mean(X_minus, axis = 1)\n",
    "    mu_plus = np.mean(X_plus, axis = 1)    \n",
    "    difference = mu_plus - mu_minus\n",
    "    S_b = difference.dot(difference.T)\n",
    "    for_minus = X_minus - mu_minus[:, None]\n",
    "    for_plus = X_plus - mu_plus[:, None]\n",
    "    S_w = for_minus.dot(for_minus.T) + for_plus.dot(for_plus.T)\n",
    "    # return the weight vector, bias term\n",
    "    w = np.linalg.inv(S_w).dot(difference)\n",
    "    b = (w.T.dot(mu_plus) + w.T.dot(mu_minus))/2\n",
    "    return w, b"
   ]
  },
  {
   "cell_type": "code",
   "execution_count": 27,
   "metadata": {},
   "outputs": [],
   "source": [
    "def compare_classifiers():\n",
    "    '''\n",
    "    compares nearest centroid classifier and linear discriminant analysis\n",
    "    '''\n",
    "    fname = 'bcidata.mat'\n",
    "    X,Y = load_data(fname)\n",
    "\n",
    "    permidx = sp.random.permutation(sp.arange(X.shape[-1]))\n",
    "    trainpercent = 70.\n",
    "    stopat = int(sp.floor(Y.shape[-1]*trainpercent/100.))\n",
    "    #pdb.set_trace()\n",
    "    \n",
    "    X,Y,Xtest,Ytest = X[:,permidx[:stopat]],Y[permidx[:stopat]],X[:,permidx[stopat:]],Y[permidx[stopat:]]\n",
    "    print(X.shape, Y.shape)\n",
    "    w_ncc,b_ncc = train_ncc(X,Y)\n",
    "    w_lda,b_lda = train_lda(X,Y)\n",
    "    fig = pl.figure(figsize=(12,5))\n",
    "\n",
    "    ax1 = fig.add_subplot(1,2,1)\n",
    "    #pl.hold(True)\n",
    "    ax1.hist(w_ncc.dot(Xtest[:,Ytest<0]))\n",
    "    ax1.hist(w_ncc.dot(Xtest[:,Ytest>0]))\n",
    "    ax1.set_xlabel('$w^{T}_{NCC}X$')\n",
    "    ax1.legend(('non-target','target'))\n",
    "    ax1.set_title(\"NCC Acc \" + str(sp.sum(sp.sign(w_ncc.dot(Xtest)-b_ncc)==Ytest)*100/Xtest.shape[-1]) + \"%\")\n",
    "    ax2 = fig.add_subplot(1,2,2)\n",
    "    ax2.hist(w_lda.dot(Xtest[:,Ytest<0]))\n",
    "    ax2.hist(w_lda.dot(Xtest[:,Ytest>0]))\n",
    "    ax2.set_xlabel('$w^{T}_{LDA}X$')\n",
    "    ax2.legend(('non-target','target'))\n",
    "    ax2.set_title(\"LDA Acc \" + str(sp.sum(sp.sign(w_lda.dot(Xtest)-b_lda)==Ytest)*100/Xtest.shape[-1]) + \"%\")\n",
    "    pl.savefig('ncc-lda-comparison.pdf')\n"
   ]
  },
  {
   "cell_type": "code",
   "execution_count": 30,
   "metadata": {
    "scrolled": false
   },
   "outputs": [
    {
     "name": "stdout",
     "output_type": "stream",
     "text": [
      "(310, 3725) (3725,)\n"
     ]
    },
    {
     "data": {
      "image/png": "[encoded data removed]",
      "text/plain": [
       "<Figure size 864x360 with 2 Axes>"
      ]
     },
     "metadata": {
      "needs_background": "light"
     },
     "output_type": "display_data"
    }
   ],
   "source": [
    "compare_classifiers()"
   ]
  },
  {
   "cell_type": "code",
   "execution_count": 46,
   "metadata": {},
   "outputs": [],
   "source": [
    "def crossvalidate(X,Y,f=10,trainfunction=train_lda):\n",
    "    ''' \n",
    "    Test generalization performance of a linear classifier\n",
    "    Input:\tX\tdata (dims-by-samples)\n",
    "            Y\tlabels (1-by-samples)\n",
    "            f\tnumber of cross-validation folds\n",
    "            trainfunction \ttrains linear classifier\n",
    "    '''\n",
    "    total_number = list(range(len(Y)))\n",
    "    l = int(len(total_number)/f) #length of each fold\n",
    "    folds_list = []\n",
    "    for i in range(f):\n",
    "        folds_list += [total_number[i*l:(i+1)*l]]\n",
    "        print(i*l, (i+1)*l)\n",
    "    print(len(folds_list))\n",
    "    acc_train = [None] * f\n",
    "    acc_test = [None] * f\n",
    "    for ifold in sp.arange(f):\n",
    "        train = np.delete(total_number, folds_list[ifold])\n",
    "        # train classifier\n",
    "        Xtrain = X[:,train]\n",
    "        Ytrain = Y[train]\n",
    "        Xtest = X[:,folds_list[ifold]]\n",
    "        Ytest = Y[folds_list[ifold]]\n",
    "        w,b = trainfunction(Xtrain, Ytrain)\n",
    "        # compute accuracy on training data\n",
    "        acc_train[ifold] = sp.sum(sp.sign(w.dot(Xtrain)-b)==Ytrain)*100/Xtrain.shape[-1]\n",
    "        # compute accuracy on test data\n",
    "        acc_test[ifold] = sp.sum(sp.sign(w.dot(Xtest)-b)==Ytest)*100/Xtest.shape[-1]\n",
    "    return acc_train,acc_test\n",
    "    "
   ]
  },
  {
   "cell_type": "code",
   "execution_count": 47,
   "metadata": {},
   "outputs": [
    {
     "name": "stdout",
     "output_type": "stream",
     "text": [
      "0 532\n",
      "532 1064\n",
      "1064 1596\n",
      "1596 2128\n",
      "2128 2660\n",
      "2660 3192\n",
      "3192 3724\n",
      "3724 4256\n",
      "4256 4788\n",
      "4788 5320\n",
      "10\n"
     ]
    },
    {
     "data": {
      "text/plain": [
       "([98.01670146137788,\n",
       "  97.93319415448852,\n",
       "  98.18371607515658,\n",
       "  98.07933194154488,\n",
       "  97.78705636743216,\n",
       "  97.95407098121086,\n",
       "  97.82881002087683,\n",
       "  97.84968684759916,\n",
       "  97.89144050104385,\n",
       "  97.78705636743216],\n",
       " [95.48872180451127,\n",
       "  96.99248120300751,\n",
       "  95.67669172932331,\n",
       "  96.99248120300751,\n",
       "  97.36842105263158,\n",
       "  96.2406015037594,\n",
       "  97.93233082706767,\n",
       "  96.99248120300751,\n",
       "  98.49624060150376,\n",
       "  98.1203007518797])"
      ]
     },
     "execution_count": 47,
     "metadata": {},
     "output_type": "execute_result"
    }
   ],
   "source": [
    "X,Y = load_data('bcidata.mat')\n",
    "crossvalidate(X,Y,f=10,trainfunction=train_lda)"
   ]
  },
  {
   "cell_type": "code",
   "execution_count": null,
   "metadata": {},
   "outputs": [],
   "source": []
  }
 ],
 "metadata": {
  "kernelspec": {
   "display_name": "Python 3",
   "language": "python",
   "name": "python3"
  },
  "language_info": {
   "codemirror_mode": {
    "name": "ipython",
    "version": 3
   },
   "file_extension": ".py",
   "mimetype": "text/x-python",
   "name": "python",
   "nbconvert_exporter": "python",
   "pygments_lexer": "ipython3",
   "version": "3.6.5"
  }
 },
 "nbformat": 4,
 "nbformat_minor": 2
}
